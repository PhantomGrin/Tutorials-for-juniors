{
  "nbformat": 4,
  "nbformat_minor": 0,
  "metadata": {
    "colab": {
      "name": "PythonFundermentals.ipynb",
      "provenance": [],
      "collapsed_sections": [],
      "toc_visible": true
    },
    "kernelspec": {
      "name": "python3",
      "display_name": "Python 3"
    },
    "accelerator": "GPU"
  },
  "cells": [
    {
      "cell_type": "markdown",
      "metadata": {
        "id": "HbFnHXZ6kXEg"
      },
      "source": [
        "#Python Tutorial"
      ]
    },
    {
      "cell_type": "markdown",
      "metadata": {
        "id": "YWYsa8xukXEm"
      },
      "source": [
        "Adapted by [Volodymyr Kuleshov](http://web.stanford.edu/~kuleshov/) and [Isaac Caswell](https://symsys.stanford.edu/viewing/symsysaffiliate/21335) from the `CS231n` Python tutorial by Justin Johnson (http://cs231n.github.io/python-numpy-tutorial/).\n",
        "\n",
        "Latest modifications by [Kekayan Nanthakumar](https://kekayan.github.io/) and [Savindi Wijenayaka](https://phantomgrin.github.io/)"
      ]
    },
    {
      "cell_type": "markdown",
      "metadata": {
        "id": "Wk0ckKq7kXEo"
      },
      "source": [
        "##Introduction"
      ]
    },
    {
      "cell_type": "markdown",
      "metadata": {
        "id": "Gz5t6OVEkXEq"
      },
      "source": [
        "Python is a great general-purpose programming language on its own, but with the help of a few popular libraries (numpy, scipy, matplotlib) it becomes a powerful environment for scientific computing.\n",
        "\n",
        "We expect that many of you will have some experience with Python and numpy; for the rest of you, this section will serve as a quick crash course both on the Python programming language and on the use of Python for scientific computing."
      ]
    },
    {
      "cell_type": "markdown",
      "metadata": {
        "id": "87-9ET8rkXEs"
      },
      "source": [
        "In this tutorial, we will cover:\n",
        "\n",
        "* Basic Python: Basic data types (Containers, Lists, Dictionaries, Sets, Tuples), Functions, Classes\n",
        "* IPython: Creating notebooks, Typical workflows"
      ]
    },
    {
      "cell_type": "markdown",
      "metadata": {
        "id": "DmHheka-ewD5"
      },
      "source": [
        "What you will do:\n",
        "* Theory + Questions\n",
        "* Small project\n",
        "\n",
        "**IMPORTANT : This is not ALL about python.** This is a quick guide"
      ]
    },
    {
      "cell_type": "markdown",
      "metadata": {
        "id": "ZqxgbaSkeNTa"
      },
      "source": [
        "## Notebook"
      ]
    },
    {
      "cell_type": "markdown",
      "metadata": {
        "id": "-3dd9gyleSZ1"
      },
      "source": [
        "* Runtimes\n",
        "* Markdown and Code cells\n",
        "* Settings\n",
        "* Mount drive"
      ]
    },
    {
      "cell_type": "code",
      "metadata": {
        "id": "QMxd_AO--3NZ",
        "outputId": "4f7d498c-5d9e-4041-9d4d-2a3b34754a98",
        "colab": {
          "base_uri": "https://localhost:8080/",
          "height": 122
        }
      },
      "source": [
        "from google.colab import drive\n",
        "drive.mount('/content/drive')"
      ],
      "execution_count": null,
      "outputs": [
        {
          "output_type": "stream",
          "text": [
            "Go to this URL in a browser: https://accounts.google.com/o/oauth2/auth?client_id=947318989803-6bn6qk8qdgf4n4g3pfee6491hc0brc4i.apps.googleusercontent.com&redirect_uri=urn%3aietf%3awg%3aoauth%3a2.0%3aoob&response_type=code&scope=email%20https%3a%2f%2fwww.googleapis.com%2fauth%2fdocs.test%20https%3a%2f%2fwww.googleapis.com%2fauth%2fdrive%20https%3a%2f%2fwww.googleapis.com%2fauth%2fdrive.photos.readonly%20https%3a%2f%2fwww.googleapis.com%2fauth%2fpeopleapi.readonly\n",
            "\n",
            "Enter your authorization code:\n",
            "··········\n",
            "Mounted at /content/drive\n"
          ],
          "name": "stdout"
        }
      ]
    },
    {
      "cell_type": "code",
      "metadata": {
        "id": "do7Abq55BDeq",
        "outputId": "640757af-e96c-4dbe-b066-9dfaee8b8045",
        "colab": {
          "base_uri": "https://localhost:8080/",
          "height": 34
        }
      },
      "source": [
        "!ls"
      ],
      "execution_count": null,
      "outputs": [
        {
          "output_type": "stream",
          "text": [
            "drive  sample_data\n"
          ],
          "name": "stdout"
        }
      ]
    },
    {
      "cell_type": "markdown",
      "metadata": {
        "id": "7mZjg0wnkXEu"
      },
      "source": [
        "##Basics of Python"
      ]
    },
    {
      "cell_type": "markdown",
      "metadata": {
        "id": "Synrw2e_kXEw"
      },
      "source": [
        "Python is a high-level, dynamically typed multiparadigm programming language. Python code is often said to be almost like pseudocode, since it allows you to express very powerful ideas in very few lines of code while being very readable. As an example, here is an implementation of the classic quicksort algorithm in Python:"
      ]
    },
    {
      "cell_type": "code",
      "metadata": {
        "id": "CofKKYWukXEy",
        "outputId": "7ce2fc8f-3fa6-41ed-a4dd-68be74438916",
        "colab": {
          "base_uri": "https://localhost:8080/",
          "height": 35
        }
      },
      "source": [
        "def quicksort(arr):\n",
        "    if len(arr) <= 1:\n",
        "        return arr\n",
        "    pivot = arr[len(arr) // 2]\n",
        "    left = [x for x in arr if x < pivot]\n",
        "    middle = [x for x in arr if x == pivot]\n",
        "    right = [x for x in arr if x > pivot]\n",
        "    return quicksort(left) + middle + quicksort(right)\n",
        "\n",
        "print(quicksort([3,6,8,10,1,2,1]))"
      ],
      "execution_count": null,
      "outputs": [
        {
          "output_type": "stream",
          "text": [
            "[1, 1, 2, 3, 6, 8, 10]\n"
          ],
          "name": "stdout"
        }
      ]
    },
    {
      "cell_type": "markdown",
      "metadata": {
        "id": "9kztNzXdkXE8"
      },
      "source": [
        "###Python versions"
      ]
    },
    {
      "cell_type": "markdown",
      "metadata": {
        "id": "YOR3oEpUkXE-"
      },
      "source": [
        "There are currently two different  versions of Python, 2.7 and 3.X. \n",
        "Python 3.0 introduced many backwards-incompatible changes to the language, so code written for 2.7 may not work under 3.X and vice versa. \n",
        "For this class all code will use Python 3.x.\n",
        "\n",
        "You can check your Python version at the command line by running `python --version`."
      ]
    },
    {
      "cell_type": "code",
      "metadata": {
        "id": "RaR9uuFNd-x7",
        "outputId": "e2f5c348-8e50-48ca-c75d-925383ae1d73",
        "colab": {
          "base_uri": "https://localhost:8080/",
          "height": 34
        }
      },
      "source": [
        "! python --version"
      ],
      "execution_count": null,
      "outputs": [
        {
          "output_type": "stream",
          "text": [
            "Python 3.6.9\n"
          ],
          "name": "stdout"
        }
      ]
    },
    {
      "cell_type": "markdown",
      "metadata": {
        "id": "MayPtTuyfLUk"
      },
      "source": [
        "**DON'T use python 2.7. It will cease operation at the end of 2020**"
      ]
    },
    {
      "cell_type": "markdown",
      "metadata": {
        "id": "1n7kblNkkXFA"
      },
      "source": [
        "###Basic data types"
      ]
    },
    {
      "cell_type": "markdown",
      "metadata": {
        "id": "gr6YWt6Wsx5I"
      },
      "source": [
        "### Variables\n",
        "\n",
        "variable is a (human readable) name that is used to uniquely identify a value."
      ]
    },
    {
      "cell_type": "code",
      "metadata": {
        "id": "w7t5kEXktwOi",
        "outputId": "79c78145-7a93-414f-c98a-7f9f91d31c7c",
        "colab": {
          "base_uri": "https://localhost:8080/",
          "height": 35
        }
      },
      "source": [
        "[1, 2, 3, 4, 5]\n",
        "\n",
        "# If we use an array like above without a name to it, we cannot grab that array later in the code\n",
        "# This is just like we as humans have name to call ourself"
      ],
      "execution_count": null,
      "outputs": [
        {
          "output_type": "execute_result",
          "data": {
            "text/plain": [
              "[1, 2, 3, 4, 5]"
            ]
          },
          "metadata": {
            "tags": []
          },
          "execution_count": 1
        }
      ]
    },
    {
      "cell_type": "markdown",
      "metadata": {
        "id": "JSPN-2bSvf1m"
      },
      "source": [
        "In Python, unlike statically typed languages like C or Java, there is no need to specifically declare the data type of the variable. In dynamically-typed (or Untyped) languages (A language is dynamically-typed if the type of a variable is checked during run-time) such as Python, the interpreter itself predicts the data type of the Python Variable based on the type of value assigned to that variable. Meaning that it does not make you define the type of a variable"
      ]
    },
    {
      "cell_type": "markdown",
      "metadata": {
        "id": "sIYR_HYvkXFB"
      },
      "source": [
        "####Numbers"
      ]
    },
    {
      "cell_type": "markdown",
      "metadata": {
        "id": "6APHz-gXkXFD"
      },
      "source": [
        "Integers and floats work as you would expect from other languages:"
      ]
    },
    {
      "cell_type": "code",
      "metadata": {
        "id": "jOMX4TIakXFE",
        "outputId": "123c970c-a9f0-4b32-95cb-ee6007cd8291",
        "colab": {
          "base_uri": "https://localhost:8080/",
          "height": 51
        }
      },
      "source": [
        "x = 3\n",
        "print (x) \n",
        "type(x) # Check the dtype of a variable in python"
      ],
      "execution_count": null,
      "outputs": [
        {
          "output_type": "stream",
          "text": [
            "3\n"
          ],
          "name": "stdout"
        },
        {
          "output_type": "execute_result",
          "data": {
            "text/plain": [
              "int"
            ]
          },
          "metadata": {
            "tags": []
          },
          "execution_count": 6
        }
      ]
    },
    {
      "cell_type": "code",
      "metadata": {
        "id": "9YYrDhoykXFJ",
        "outputId": "e8974236-bf3d-49e5-c618-667686823555",
        "colab": {
          "base_uri": "https://localhost:8080/",
          "height": 85
        }
      },
      "source": [
        "print (x + 1)   # Addition;\n",
        "print (x - 1)   # Subtraction;\n",
        "print (x * 2)   # Multiplication;\n",
        "print (x ** 2)  # Exponentiation; "
      ],
      "execution_count": null,
      "outputs": [
        {
          "output_type": "stream",
          "text": [
            "4\n",
            "2\n",
            "6\n",
            "9\n"
          ],
          "name": "stdout"
        }
      ]
    },
    {
      "cell_type": "code",
      "metadata": {
        "id": "_uJGsYS6kXFO",
        "outputId": "ce3bc745-12e0-4cd7-a2de-98a6c5e3aaab",
        "colab": {
          "base_uri": "https://localhost:8080/",
          "height": 54
        }
      },
      "source": [
        "x += 1     # x = x + 1\n",
        "print (x)  # Prints \"4\"\n",
        "x *= 2     # x = x * 2         x -= 3 ---> x = x - 3\n",
        "print (x)  # Prints \"8\""
      ],
      "execution_count": null,
      "outputs": [
        {
          "output_type": "stream",
          "text": [
            "4\n",
            "8\n"
          ],
          "name": "stdout"
        }
      ]
    },
    {
      "cell_type": "code",
      "metadata": {
        "id": "iGRhWDkXkXFU",
        "outputId": "d931366f-ba65-4d87-c438-6c844a6aca9d",
        "colab": {
          "base_uri": "https://localhost:8080/",
          "height": 51
        }
      },
      "source": [
        "y = 2.5\n",
        "print (type(y)) # Prints \"<type 'float'>\"\n",
        "print (y, y + 1, y * 2, y ** 2) # Prints \"2.5 3.5 5.0 6.25\""
      ],
      "execution_count": null,
      "outputs": [
        {
          "output_type": "stream",
          "text": [
            "<class 'float'>\n",
            "2.5 3.5 5.0 6.25\n"
          ],
          "name": "stdout"
        }
      ]
    },
    {
      "cell_type": "markdown",
      "metadata": {
        "id": "k2-BEsFrkXFZ"
      },
      "source": [
        "Note that unlike many languages, **Python does not have unary increment (x++) or decrement (x--) operators.**\n",
        "\n",
        "Python also has built-in types for long integers and complex numbers; you can find all of the details in the [documentation](https://docs.python.org/2/library/stdtypes.html#numeric-types-int-float-long-complex)."
      ]
    },
    {
      "cell_type": "markdown",
      "metadata": {
        "id": "cXclzPJxkXFa"
      },
      "source": [
        "####Booleans"
      ]
    },
    {
      "cell_type": "markdown",
      "metadata": {
        "id": "oHjyhTfmkXFc"
      },
      "source": [
        "Python implements all of the usual operators for Boolean logic, but uses English words rather than symbols (`&&`, `||`, etc.):"
      ]
    },
    {
      "cell_type": "code",
      "metadata": {
        "id": "j3_-H2VBkXFd",
        "outputId": "68637567-f4cf-4007-9364-773bf3b5252d",
        "colab": {
          "base_uri": "https://localhost:8080/",
          "height": 35
        }
      },
      "source": [
        "t, f = True, False\n",
        "type(t) # Prints \"<class 'bool'>\""
      ],
      "execution_count": null,
      "outputs": [
        {
          "output_type": "execute_result",
          "data": {
            "text/plain": [
              "bool"
            ]
          },
          "metadata": {
            "tags": []
          },
          "execution_count": 6
        }
      ]
    },
    {
      "cell_type": "markdown",
      "metadata": {
        "id": "0cGzVZPQ0DTo"
      },
      "source": [
        "![Truth Table](https://static-resources.imageservice.cloud/1995313/ttl-logic-gates-digital-circuits-worksheets.png)"
      ]
    },
    {
      "cell_type": "markdown",
      "metadata": {
        "id": "ub6YjkpnkXFj"
      },
      "source": [
        "Now we let's look at the operations:"
      ]
    },
    {
      "cell_type": "code",
      "metadata": {
        "id": "ARFi_CwakXFl",
        "outputId": "089cfe14-1116-4862-9971-c5bb08569ad5",
        "colab": {
          "base_uri": "https://localhost:8080/",
          "height": 90
        }
      },
      "source": [
        "print (t and f) # Logical AND; Can use & too\n",
        "print (t or f)  # Logical OR;  Can use | too\n",
        "print (not t )  # Logical NOT;\n",
        "print (t != f)  # Logical XOR;"
      ],
      "execution_count": null,
      "outputs": [
        {
          "output_type": "stream",
          "text": [
            "False\n",
            "True\n",
            "False\n",
            "True\n"
          ],
          "name": "stdout"
        }
      ]
    },
    {
      "cell_type": "markdown",
      "metadata": {
        "id": "vNSnIju6kXFp"
      },
      "source": [
        "####Strings"
      ]
    },
    {
      "cell_type": "markdown",
      "metadata": {
        "id": "6y1Fi1HQODBU"
      },
      "source": [
        "Strings are usually created in one of three ways. You can use single, double or triple quotes. "
      ]
    },
    {
      "cell_type": "code",
      "metadata": {
        "id": "9noGSe9RkXFq"
      },
      "source": [
        "h = 'hello'   # String literals can use single quotes\n",
        "w = \"world\"   # or double quotes; it does not matter. But... be consistant!!\n",
        "a_long_string = '''This is a\n",
        "multi-line string. It covers more than\n",
        "one line'''"
      ],
      "execution_count": null,
      "outputs": []
    },
    {
      "cell_type": "code",
      "metadata": {
        "id": "BPmFB05eDTAB",
        "outputId": "e4e5502f-9c94-4f07-9371-11be3c82a3e9",
        "colab": {
          "base_uri": "https://localhost:8080/",
          "height": 35
        }
      },
      "source": [
        "print (h, len(h), h[3])"
      ],
      "execution_count": null,
      "outputs": [
        {
          "output_type": "stream",
          "text": [
            "hello 5 l\n"
          ],
          "name": "stdout"
        }
      ]
    },
    {
      "cell_type": "markdown",
      "metadata": {
        "id": "p8xLtLP7OOhV"
      },
      "source": [
        "There’s actually one other way to create a string and that is by using the str method"
      ]
    },
    {
      "cell_type": "code",
      "metadata": {
        "id": "67m6KECxDvIT",
        "outputId": "baaaf103-adf8-473f-9883-1115e978b25f",
        "colab": {
          "base_uri": "https://localhost:8080/",
          "height": 54
        }
      },
      "source": [
        "my_number = 123\n",
        "my_string = str(my_number)\n",
        "\n",
        "print(my_number, type(my_number))\n",
        "print(my_string, type(my_string))"
      ],
      "execution_count": null,
      "outputs": [
        {
          "output_type": "stream",
          "text": [
            "123 <class 'int'>\n",
            "123 <class 'str'>\n"
          ],
          "name": "stdout"
        }
      ]
    },
    {
      "cell_type": "markdown",
      "metadata": {
        "id": "bjZKxA9Vh19g"
      },
      "source": [
        "This is known as casting"
      ]
    },
    {
      "cell_type": "markdown",
      "metadata": {
        "id": "lGO7H7Hnh6Ij"
      },
      "source": [
        "Strings are Character Arrays. (FYI array indexing start from Zero as usual)"
      ]
    },
    {
      "cell_type": "markdown",
      "metadata": {
        "id": "bTJjOkQl2fYM"
      },
      "source": [
        "![String indexing example](https://media.geeksforgeeks.org/wp-content/cdn-uploads/20200204160843/strings.jpg)"
      ]
    },
    {
      "cell_type": "code",
      "metadata": {
        "id": "IiOZh8nkiIvY",
        "outputId": "24904431-e04c-49a0-b475-3c08e639fcc0",
        "colab": {
          "base_uri": "https://localhost:8080/",
          "height": 35
        }
      },
      "source": [
        "my_string = \"abc\"\n",
        "my_string[0]"
      ],
      "execution_count": null,
      "outputs": [
        {
          "output_type": "execute_result",
          "data": {
            "application/vnd.google.colaboratory.intrinsic+json": {
              "type": "string"
            },
            "text/plain": [
              "'a'"
            ]
          },
          "metadata": {
            "tags": []
          },
          "execution_count": 12
        }
      ]
    },
    {
      "cell_type": "markdown",
      "metadata": {
        "id": "V1ZbpIMEiGCp"
      },
      "source": [
        "A string is one of Python immutable types, similar to Java (Immutable means you can't change it)"
      ]
    },
    {
      "cell_type": "code",
      "metadata": {
        "id": "t5OP8yMzEGC6",
        "outputId": "bbb4a345-8dd7-4c45-9300-d3d1abff717a",
        "colab": {
          "base_uri": "https://localhost:8080/",
          "height": 197
        }
      },
      "source": [
        "my_string[0] = \"d\"\n",
        "#see error"
      ],
      "execution_count": null,
      "outputs": [
        {
          "output_type": "error",
          "ename": "TypeError",
          "evalue": "ignored",
          "traceback": [
            "\u001b[0;31m---------------------------------------------------------------------------\u001b[0m",
            "\u001b[0;31mTypeError\u001b[0m                                 Traceback (most recent call last)",
            "\u001b[0;32m<ipython-input-13-8712d3619106>\u001b[0m in \u001b[0;36m<module>\u001b[0;34m()\u001b[0m\n\u001b[0;32m----> 1\u001b[0;31m \u001b[0mmy_string\u001b[0m\u001b[0;34m[\u001b[0m\u001b[0;36m0\u001b[0m\u001b[0;34m]\u001b[0m \u001b[0;34m=\u001b[0m \u001b[0;34m\"d\"\u001b[0m\u001b[0;34m\u001b[0m\u001b[0;34m\u001b[0m\u001b[0m\n\u001b[0m\u001b[1;32m      2\u001b[0m \u001b[0;31m#see error\u001b[0m\u001b[0;34m\u001b[0m\u001b[0;34m\u001b[0m\u001b[0;34m\u001b[0m\u001b[0m\n",
            "\u001b[0;31mTypeError\u001b[0m: 'str' object does not support item assignment"
          ]
        }
      ]
    },
    {
      "cell_type": "code",
      "metadata": {
        "id": "4__APU1rET7H",
        "outputId": "39924df0-2b07-460d-d4f4-154ef39071ee",
        "colab": {
          "base_uri": "https://localhost:8080/",
          "height": 72
        }
      },
      "source": [
        "my_string = \"abc\"\n",
        "print(id(my_string))\n",
        "\n",
        "my_string = \"def\"\n",
        "print(id(my_string))\n",
        "\n",
        "my_string = my_string + \"ghi\"\n",
        "print(id(my_string))"
      ],
      "execution_count": null,
      "outputs": [
        {
          "output_type": "stream",
          "text": [
            "140632958720744\n",
            "140632957849928\n",
            "140632382871904\n"
          ],
          "name": "stdout"
        }
      ]
    },
    {
      "cell_type": "markdown",
      "metadata": {
        "id": "aMNNrpa_POYE"
      },
      "source": [
        "By checking the id of the object, we can determine that any time we assign a new value to the variable, its identity changes"
      ]
    },
    {
      "cell_type": "code",
      "metadata": {
        "id": "HewFs4fXF6ve",
        "outputId": "7b61515c-0665-4a51-b6dd-e3abb29e9684",
        "colab": {
          "base_uri": "https://localhost:8080/",
          "height": 35
        }
      },
      "source": [
        "my_string = \"I like Python!\"\n",
        "print(my_string[0:1])"
      ],
      "execution_count": null,
      "outputs": [
        {
          "output_type": "stream",
          "text": [
            "I\n"
          ],
          "name": "stdout"
        }
      ]
    },
    {
      "cell_type": "markdown",
      "metadata": {
        "id": "lyD6xzsFE46I"
      },
      "source": [
        "![alt text](https://drive.google.com/uc?id=1UumESzHn2eaAVfIBDFHCsypxj3sfqICJ)"
      ]
    },
    {
      "cell_type": "markdown",
      "metadata": {
        "id": "ACA8pEXajMvS"
      },
      "source": [
        "**Question**"
      ]
    },
    {
      "cell_type": "markdown",
      "metadata": {
        "id": "J6tt73cric_U"
      },
      "source": [
        "* Print I only\n",
        "* Print ! only\n",
        "* Print Python only\n",
        "* Print like only\n",
        "* Print I like Python (without ! mark)\n",
        "* Print all I like python! (with using slicing mark)"
      ]
    },
    {
      "cell_type": "markdown",
      "metadata": {
        "id": "LZvcdtc-3lTv"
      },
      "source": [
        "\n",
        "\n",
        "---\n",
        "\n",
        "\n",
        "\n",
        "---\n",
        "\n"
      ]
    },
    {
      "cell_type": "code",
      "metadata": {
        "id": "SMTNeEYqkXFv",
        "outputId": "1c775749-3f3f-4c2f-d091-b7ebe275da82",
        "colab": {
          "base_uri": "https://localhost:8080/",
          "height": 35
        }
      },
      "source": [
        "h = 'Hello'\n",
        "w = 'World'\n",
        "\n",
        "hw = h + ' ' + w  # String concatenation\n",
        "print (hw)  # prints \"hello world\""
      ],
      "execution_count": null,
      "outputs": [
        {
          "output_type": "stream",
          "text": [
            "Hello World\n"
          ],
          "name": "stdout"
        }
      ]
    },
    {
      "cell_type": "code",
      "metadata": {
        "id": "NarccPBl4RmR",
        "outputId": "cabf82d2-ed29-45ce-9ab5-52749f174b6f",
        "colab": {
          "base_uri": "https://localhost:8080/",
          "height": 35
        }
      },
      "source": [
        "# Concatinate using join method\n",
        "myList = [\"Hello\", \"World\"]\n",
        "mySeparator = \" \"\n",
        "\n",
        "x = mySeparator.join(myList)\n",
        "\n",
        "print(x)\n",
        "\n",
        "# Can be used with Lists, Tupples, Dictionaries etc "
      ],
      "execution_count": null,
      "outputs": [
        {
          "output_type": "stream",
          "text": [
            "Hello World\n"
          ],
          "name": "stdout"
        }
      ]
    },
    {
      "cell_type": "code",
      "metadata": {
        "id": "CjzLghR24w02",
        "outputId": "ed17b1a8-6067-47e1-e6a6-b8059eff1a7b",
        "colab": {
          "base_uri": "https://localhost:8080/",
          "height": 54
        }
      },
      "source": [
        "# Splitting a String into list\n",
        "txt = \"welcome to the jungle\"\n",
        "txt2 = \"apple#banana#cherry#orange\"\n",
        "x = txt.split()\n",
        "x2 = txt2.split(\"#\")\n",
        "print(x)\n",
        "print(x2)"
      ],
      "execution_count": null,
      "outputs": [
        {
          "output_type": "stream",
          "text": [
            "['welcome', 'to', 'the', 'jungle']\n",
            "['apple', 'banana', 'cherry', 'orange']\n"
          ],
          "name": "stdout"
        }
      ]
    },
    {
      "cell_type": "markdown",
      "metadata": {
        "id": "Cwd1Uhrkkc8g"
      },
      "source": [
        "There are 3 string formatting ways\n",
        "\n",
        "* printf style string formatting\n",
        "* string formatting using format method\n",
        "* format using f"
      ]
    },
    {
      "cell_type": "code",
      "metadata": {
        "id": "PCid6J1nkXF0",
        "outputId": "b1a5e0d1-040d-4de1-b13c-b498d8300c1b",
        "colab": {
          "base_uri": "https://localhost:8080/",
          "height": 54
        }
      },
      "source": [
        "# printf style string formatting\n",
        "\n",
        "hw12 = '%s %s %d' % (h, w, 12)\n",
        "hw13 = '%s %s %.2f' % (h, w, 12)  \n",
        "print (hw12)  # prints \"hello world 12\"\n",
        "print (hw13)  # prints  hello world 12.00"
      ],
      "execution_count": null,
      "outputs": [
        {
          "output_type": "stream",
          "text": [
            "Hello World 12\n",
            "Hello World 12.00\n"
          ],
          "name": "stdout"
        }
      ]
    },
    {
      "cell_type": "code",
      "metadata": {
        "id": "ljuACr38qV49",
        "outputId": "964c5603-ad86-4699-f54c-26d330ad75b3",
        "colab": {
          "base_uri": "https://localhost:8080/",
          "height": 35
        }
      },
      "source": [
        "#  string formatting using format method\n",
        "\n",
        "hw12 = '{} Phantom {} {}'.format(h, w, 12) \n",
        "print (hw12)  # prints \"hello world 12\""
      ],
      "execution_count": null,
      "outputs": [
        {
          "output_type": "stream",
          "text": [
            "Hello Phantom World 12\n"
          ],
          "name": "stdout"
        }
      ]
    },
    {
      "cell_type": "code",
      "metadata": {
        "id": "tt7mTB63rIAr",
        "outputId": "645eb575-7bfc-47d1-ab06-c2de1a50238b",
        "colab": {
          "base_uri": "https://localhost:8080/",
          "height": 35
        }
      },
      "source": [
        "# fromat using f\n",
        "\n",
        "print(f'{h} Phantom {w} {12:.2f}') "
      ],
      "execution_count": null,
      "outputs": [
        {
          "output_type": "stream",
          "text": [
            "Hello Phantom World 12.00\n"
          ],
          "name": "stdout"
        }
      ]
    },
    {
      "cell_type": "markdown",
      "metadata": {
        "id": "SytdygNLkXF5"
      },
      "source": [
        "String objects have a bunch of useful methods; for example:"
      ]
    },
    {
      "cell_type": "code",
      "metadata": {
        "id": "w5Wl-BeckXF6",
        "outputId": "b22725d1-3f7e-4aa1-af08-c53e6fe279b4",
        "colab": {
          "base_uri": "https://localhost:8080/",
          "height": 127
        }
      },
      "source": [
        "s = \"hello\"\n",
        "print (s.capitalize())  # Capitalize a string; prints \"Hello\"\n",
        "print (s.upper() )      # Convert a string to uppercase; prints \"HELLO\"\n",
        "print (s.rjust(7))      # Right-justify a string, padding with spaces; prints \"  hello\"\n",
        "print (s.center(7))     # Center a string, padding with spaces; prints \" hello \"\n",
        "print (s.replace('l', '(ell)'))  # Replace all instances of one substring with another;\n",
        "                               # prints \"he(ell)(ell)o\"\n",
        "print ('  world '.strip())  # Strip leading and trailing whitespace; prints \"world\""
      ],
      "execution_count": null,
      "outputs": [
        {
          "output_type": "stream",
          "text": [
            "Hello\n",
            "HELLO\n",
            "  hello\n",
            " hello \n",
            "he(ell)(ell)o\n",
            "world\n"
          ],
          "name": "stdout"
        }
      ]
    },
    {
      "cell_type": "markdown",
      "metadata": {
        "id": "JUOHCDc5kXF-"
      },
      "source": [
        "You can find a list of all string methods in the [documentation](https://docs.python.org/2/library/stdtypes.html#string-methods)."
      ]
    },
    {
      "cell_type": "markdown",
      "metadata": {
        "id": "-bQGiwDlkXGA"
      },
      "source": [
        "###Containers"
      ]
    },
    {
      "cell_type": "markdown",
      "metadata": {
        "id": "k4YGrXHjkXGB"
      },
      "source": [
        "Python includes several built-in container types: lists, dictionaries, sets, and tuples."
      ]
    },
    {
      "cell_type": "markdown",
      "metadata": {
        "id": "zYIL7gFbkXGC"
      },
      "source": [
        "####Lists"
      ]
    },
    {
      "cell_type": "markdown",
      "metadata": {
        "id": "ygfj4q3RkXGD"
      },
      "source": [
        "A list is the Python equivalent of an array, but is resizeable and can contain elements of different types:"
      ]
    },
    {
      "cell_type": "code",
      "metadata": {
        "id": "Zl_Ek-F7GhAb"
      },
      "source": [
        "# Create a list\n",
        "my_list = []\n",
        "my_list = list()"
      ],
      "execution_count": null,
      "outputs": []
    },
    {
      "cell_type": "markdown",
      "metadata": {
        "id": "utbzTRhLl3QN"
      },
      "source": [
        "**Question**"
      ]
    },
    {
      "cell_type": "markdown",
      "metadata": {
        "id": "yUohTyByltGO"
      },
      "source": [
        "* Create list with elements 2, 3, 1, 4. Print 4. Assign the list to variable named xs\n",
        "\n",
        "* Can we change 4 to 'foo'? Yes/No. Reason? "
      ]
    },
    {
      "cell_type": "code",
      "metadata": {
        "id": "T3vvQYYPWdGm",
        "outputId": "11d6decc-bb91-431d-ccf0-386d375d5fb3",
        "colab": {
          "base_uri": "https://localhost:8080/",
          "height": 54
        }
      },
      "source": [
        "xs = [2, 3, 1, 4]\n",
        "print(xs[3])\n",
        "xs[3]='foo'\n",
        "print(xs)"
      ],
      "execution_count": null,
      "outputs": [
        {
          "output_type": "stream",
          "text": [
            "4\n",
            "[2, 3, 1, 'foo']\n"
          ],
          "name": "stdout"
        }
      ]
    },
    {
      "cell_type": "markdown",
      "metadata": {
        "id": "3vrZL3M0no33"
      },
      "source": [
        "Add a new element to the end of the list"
      ]
    },
    {
      "cell_type": "code",
      "metadata": {
        "id": "sAVQ9ayEkXGN",
        "outputId": "51a8eb69-5b9e-4dad-be71-9ee6d1ace014",
        "colab": {
          "base_uri": "https://localhost:8080/",
          "height": 35
        }
      },
      "source": [
        "xs.append('bar') \n",
        "print (xs)  "
      ],
      "execution_count": null,
      "outputs": [
        {
          "output_type": "stream",
          "text": [
            "[2, 3, 1, 'foo', 'bar']\n"
          ],
          "name": "stdout"
        }
      ]
    },
    {
      "cell_type": "code",
      "metadata": {
        "id": "omJtZsVInw2s",
        "outputId": "082cb988-b9e6-4f4f-e201-095dfc98313b",
        "colab": {
          "base_uri": "https://localhost:8080/",
          "height": 35
        }
      },
      "source": [
        "xs = xs + ['foobar']\n",
        "print(xs)"
      ],
      "execution_count": null,
      "outputs": [
        {
          "output_type": "stream",
          "text": [
            "[2, 3, 1, 'foo', 'bar', 'foobar']\n"
          ],
          "name": "stdout"
        }
      ]
    },
    {
      "cell_type": "markdown",
      "metadata": {
        "id": "tFYri0M-odpT"
      },
      "source": [
        "Removing items from list"
      ]
    },
    {
      "cell_type": "code",
      "metadata": {
        "id": "Qp9mf3wrkXGV",
        "outputId": "13a8c19d-fa87-4359-a11d-ae26070ec08a",
        "colab": {
          "base_uri": "https://localhost:8080/",
          "height": 54
        }
      },
      "source": [
        "x = xs.pop()\n",
        "print (x, xs)  \n",
        "x = xs.pop(3)     \n",
        "print (x, xs)"
      ],
      "execution_count": null,
      "outputs": [
        {
          "output_type": "stream",
          "text": [
            "foobar [2, 3, 1, 'foo', 'bar']\n",
            "foo [2, 3, 1, 'bar']\n"
          ],
          "name": "stdout"
        }
      ]
    },
    {
      "cell_type": "markdown",
      "metadata": {
        "id": "x72fPeUooqJN"
      },
      "source": [
        "Extending Lists"
      ]
    },
    {
      "cell_type": "code",
      "metadata": {
        "id": "jwG_WaRlG4yv",
        "outputId": "4c652ce1-2753-4cd0-aa40-7d8d29244f24",
        "colab": {
          "base_uri": "https://localhost:8080/",
          "height": 35
        }
      },
      "source": [
        "one_list = [4, 5]\n",
        "xs.extend(one_list)\n",
        "print(xs) # [2, 3, 1, 'bar', 4, 5]"
      ],
      "execution_count": null,
      "outputs": [
        {
          "output_type": "stream",
          "text": [
            "[2, 3, 1, 'bar', 4, 5]\n"
          ],
          "name": "stdout"
        }
      ]
    },
    {
      "cell_type": "code",
      "metadata": {
        "id": "F_ocRHDKVQho",
        "outputId": "06f19010-760b-4e44-97ab-5b4974ba58ac",
        "colab": {
          "base_uri": "https://localhost:8080/",
          "height": 35
        }
      },
      "source": [
        "x = xs + one_list # Similar to string concatination, we can do it on lists\n",
        "print(x)"
      ],
      "execution_count": null,
      "outputs": [
        {
          "output_type": "stream",
          "text": [
            "[2, 3, 1, 'bar', 4, 5, 4, 5]\n"
          ],
          "name": "stdout"
        }
      ]
    },
    {
      "cell_type": "code",
      "metadata": {
        "id": "LwnYGtQlfwyp",
        "outputId": "c38e9a04-aa55-4bc7-e072-26494711149c",
        "colab": {
          "base_uri": "https://localhost:8080/",
          "height": 54
        }
      },
      "source": [
        "ele = 'foobar'\n",
        "print(ele in xs)\n",
        "print('bar' in xs)"
      ],
      "execution_count": null,
      "outputs": [
        {
          "output_type": "stream",
          "text": [
            "False\n",
            "True\n"
          ],
          "name": "stdout"
        }
      ]
    },
    {
      "cell_type": "code",
      "metadata": {
        "id": "K1EXbXBUWhDs",
        "outputId": "694284b9-5a49-4744-d055-6d9d3210eed8",
        "colab": {
          "base_uri": "https://localhost:8080/",
          "height": 35
        }
      },
      "source": [
        "x.remove(4) #Removes first occurance only\n",
        "print(x)"
      ],
      "execution_count": null,
      "outputs": [
        {
          "output_type": "stream",
          "text": [
            "[2, 3, 1, 'bar', 5, 4, 5]\n"
          ],
          "name": "stdout"
        }
      ]
    },
    {
      "cell_type": "code",
      "metadata": {
        "id": "YyvooWWyWo03",
        "outputId": "8aba7b7e-c08c-45b3-e68f-d6443a192466",
        "colab": {
          "base_uri": "https://localhost:8080/",
          "height": 35
        }
      },
      "source": [
        "x.reverse()\n",
        "print(x)"
      ],
      "execution_count": null,
      "outputs": [
        {
          "output_type": "stream",
          "text": [
            "[5, 4, 5, 'bar', 1, 3, 2]\n"
          ],
          "name": "stdout"
        }
      ]
    },
    {
      "cell_type": "code",
      "metadata": {
        "id": "Go9Zrh4ZGsm8",
        "outputId": "e4cd7eca-c986-476e-e114-b2dbbab6f0eb",
        "colab": {
          "base_uri": "https://localhost:8080/",
          "height": 197
        }
      },
      "source": [
        "x.sort() #We can't sort when different types are in the list\n",
        "print(x)"
      ],
      "execution_count": null,
      "outputs": [
        {
          "output_type": "error",
          "ename": "TypeError",
          "evalue": "ignored",
          "traceback": [
            "\u001b[0;31m---------------------------------------------------------------------------\u001b[0m",
            "\u001b[0;31mTypeError\u001b[0m                                 Traceback (most recent call last)",
            "\u001b[0;32m<ipython-input-47-6d37fb3acd10>\u001b[0m in \u001b[0;36m<module>\u001b[0;34m()\u001b[0m\n\u001b[0;32m----> 1\u001b[0;31m \u001b[0mx\u001b[0m\u001b[0;34m.\u001b[0m\u001b[0msort\u001b[0m\u001b[0;34m(\u001b[0m\u001b[0;34m)\u001b[0m \u001b[0;31m#We can't sort when different types are in the list\u001b[0m\u001b[0;34m\u001b[0m\u001b[0;34m\u001b[0m\u001b[0m\n\u001b[0m\u001b[1;32m      2\u001b[0m \u001b[0mprint\u001b[0m\u001b[0;34m(\u001b[0m\u001b[0mx\u001b[0m\u001b[0;34m)\u001b[0m\u001b[0;34m\u001b[0m\u001b[0;34m\u001b[0m\u001b[0m\n",
            "\u001b[0;31mTypeError\u001b[0m: '<' not supported between instances of 'str' and 'int'"
          ]
        }
      ]
    },
    {
      "cell_type": "code",
      "metadata": {
        "id": "XIpuEIrF8ub9",
        "outputId": "7ba76c85-0b00-410c-d610-bab86343f054",
        "colab": {
          "base_uri": "https://localhost:8080/",
          "height": 54
        }
      },
      "source": [
        "x.remove('bar') #Remove 'bar'\n",
        "print(x)\n",
        "\n",
        "x.sort()\n",
        "print(x)"
      ],
      "execution_count": null,
      "outputs": [
        {
          "output_type": "stream",
          "text": [
            "[4, 5, 5, 1, 3, 2]\n",
            "[1, 2, 3, 4, 5, 5]\n"
          ],
          "name": "stdout"
        }
      ]
    },
    {
      "cell_type": "markdown",
      "metadata": {
        "id": "UQsQXEazkXGb"
      },
      "source": [
        "As usual, you can find all the gory details about lists in the [documentation](https://docs.python.org/2/tutorial/datastructures.html#more-on-lists)."
      ]
    },
    {
      "cell_type": "markdown",
      "metadata": {
        "id": "vjVgkL-pkXGc"
      },
      "source": [
        "####Slicing"
      ]
    },
    {
      "cell_type": "markdown",
      "metadata": {
        "id": "lQv81jAdkXGd"
      },
      "source": [
        "In addition to accessing list elements one at a time, Python provides concise syntax to access sublists; this is known as slicing:"
      ]
    },
    {
      "cell_type": "markdown",
      "metadata": {
        "id": "M1WzRj1amrfq"
      },
      "source": [
        "Question\n"
      ]
    },
    {
      "cell_type": "code",
      "metadata": {
        "id": "2sTedUHlkXGe",
        "outputId": "4cbccf37-8c2d-41ff-a6b9-849d17e22f24",
        "colab": {
          "base_uri": "https://localhost:8080/",
          "height": 146
        }
      },
      "source": [
        "nums = list(range(5))     # range is a built-in function that creates a list of integers\n",
        "print(nums)               # Prints \"[0, 1, 2, 3, 4]\"\n",
        "print(nums[2:4])          # Get a slice from index 2 to 4 (exclusive); prints \"[2, 3]\"\n",
        "print(nums[2:])           # Get a slice from index 2 to the end; prints \"[2, 3, 4]\"\n",
        "print(nums[:2])           # Get a slice from the start to index 2 (exclusive); prints \"[0, 1]\"\n",
        "print(nums[:])            # Get a slice of the whole list; prints \"[0, 1, 2, 3, 4]\"\n",
        "print(nums[:-5])          # Slice indices can be negative; prints \"[0, 1, 2, 3]\"\n",
        "nums[2:4] = [8, 9]        # Assign a new sublist to a slice\n",
        "print(nums)               # Prints \"[0, 1, 8, 9, 4]\""
      ],
      "execution_count": null,
      "outputs": [
        {
          "output_type": "stream",
          "text": [
            "[0, 1, 2, 3, 4]\n",
            "[2, 3]\n",
            "[2, 3, 4]\n",
            "[0, 1]\n",
            "[0, 1, 2, 3, 4]\n",
            "[]\n",
            "[0, 1, 8, 9, 4]\n"
          ],
          "name": "stdout"
        }
      ]
    },
    {
      "cell_type": "markdown",
      "metadata": {
        "id": "LUJio_adkXGi"
      },
      "source": [
        "####Loops"
      ]
    },
    {
      "cell_type": "markdown",
      "metadata": {
        "id": "oxV3EnQ19TmI"
      },
      "source": [
        "What if you are asked to print your name 5 times? will you type same thing 5 times? what if it is 100 times instead of 5 times?"
      ]
    },
    {
      "cell_type": "code",
      "metadata": {
        "id": "G6b4TNUzIq2T",
        "outputId": "f5d367de-b8ee-46bd-bbbc-62b3de225a48",
        "colab": {
          "base_uri": "https://localhost:8080/",
          "height": 109
        }
      },
      "source": [
        "for i in range(5): #The range function will create a list that is n in length\n",
        "  print('Phantom')"
      ],
      "execution_count": null,
      "outputs": [
        {
          "output_type": "stream",
          "text": [
            "Phantom\n",
            "Phantom\n",
            "Phantom\n",
            "Phantom\n",
            "Phantom\n"
          ],
          "name": "stdout"
        }
      ]
    },
    {
      "cell_type": "code",
      "metadata": {
        "id": "faLud8Nm_c6G",
        "outputId": "3cd85d7b-33e2-4913-bf10-2c1968a6ba64",
        "colab": {
          "base_uri": "https://localhost:8080/",
          "height": 109
        }
      },
      "source": [
        "for i in range(1, 11, 2):  ### arg1=start(inclusie), arg2=end(exclusive), arg3=increment\n",
        "  print(i)"
      ],
      "execution_count": null,
      "outputs": [
        {
          "output_type": "stream",
          "text": [
            "1\n",
            "3\n",
            "5\n",
            "7\n",
            "9\n"
          ],
          "name": "stdout"
        }
      ]
    },
    {
      "cell_type": "code",
      "metadata": {
        "id": "LP8hcwIjI4wx",
        "outputId": "ce5b45bc-a942-4cf2-a723-731058d8486c",
        "colab": {
          "base_uri": "https://localhost:8080/",
          "height": 54
        }
      },
      "source": [
        "print(range(5,10))  # range(5, 10)\n",
        "print(list(range(1, 10, 2)))  # [1, 3, 5, 7, 9] "
      ],
      "execution_count": null,
      "outputs": [
        {
          "output_type": "stream",
          "text": [
            "range(5, 10)\n",
            "[1, 3, 5, 7, 9]\n"
          ],
          "name": "stdout"
        }
      ]
    },
    {
      "cell_type": "markdown",
      "metadata": {
        "id": "940-Bds2kXGj"
      },
      "source": [
        "You can loop over the elements of a list like this:"
      ]
    },
    {
      "cell_type": "code",
      "metadata": {
        "id": "NxK4NmuskXGl",
        "outputId": "ba9ab10f-ef4d-4065-85a7-5d3d40e85b93",
        "colab": {
          "base_uri": "https://localhost:8080/",
          "height": 72
        }
      },
      "source": [
        "animals = ['cat', 'dog', 'monkey']\n",
        "for animal in animals:\n",
        "    print (animal)"
      ],
      "execution_count": null,
      "outputs": [
        {
          "output_type": "stream",
          "text": [
            "cat\n",
            "dog\n",
            "monkey\n"
          ],
          "name": "stdout"
        }
      ]
    },
    {
      "cell_type": "markdown",
      "metadata": {
        "id": "2faXY_A0kXGp"
      },
      "source": [
        "If you want access to the index of each element within the body of a loop, use the built-in `enumerate` function:"
      ]
    },
    {
      "cell_type": "code",
      "metadata": {
        "id": "63AkUfB2kXGq",
        "outputId": "5093653c-dbf5-4c44-e21d-11c84069b97a",
        "colab": {
          "base_uri": "https://localhost:8080/",
          "height": 72
        }
      },
      "source": [
        "animals = ['cat', 'dog', 'monkey']\n",
        "for idx, animal in enumerate(animals):\n",
        "    print ('#%d: %s' % (idx + 1, animal))"
      ],
      "execution_count": null,
      "outputs": [
        {
          "output_type": "stream",
          "text": [
            "#1: cat\n",
            "#2: dog\n",
            "#3: monkey\n"
          ],
          "name": "stdout"
        }
      ]
    },
    {
      "cell_type": "markdown",
      "metadata": {
        "id": "hq4CDqOdkXGu"
      },
      "source": [
        "####List comprehensions:"
      ]
    },
    {
      "cell_type": "markdown",
      "metadata": {
        "id": "csi0WLKCkXGv"
      },
      "source": [
        "When programming, frequently we want to transform one type of data into another. As a simple example, consider the following code that computes square numbers:"
      ]
    },
    {
      "cell_type": "code",
      "metadata": {
        "id": "UmoMt3hYJtmy",
        "outputId": "9be73794-4d70-4f8b-ef55-b945da236779",
        "colab": {
          "base_uri": "https://localhost:8080/",
          "height": 35
        }
      },
      "source": [
        "x=[]\n",
        "for i in range(5):\n",
        "  x.append(i)\n",
        "print(x)"
      ],
      "execution_count": null,
      "outputs": [
        {
          "output_type": "stream",
          "text": [
            "[0, 1, 2, 3, 4]\n"
          ],
          "name": "stdout"
        }
      ]
    },
    {
      "cell_type": "code",
      "metadata": {
        "id": "UiWNT7TBJp4n",
        "outputId": "aa35b0a6-b595-4e2a-b25a-eb4942c1e21f",
        "colab": {
          "base_uri": "https://localhost:8080/",
          "height": 35
        }
      },
      "source": [
        "x = [i for i in range(5)]\n",
        "print(x)"
      ],
      "execution_count": null,
      "outputs": [
        {
          "output_type": "stream",
          "text": [
            "[0, 1, 2, 3, 4]\n"
          ],
          "name": "stdout"
        }
      ]
    },
    {
      "cell_type": "code",
      "metadata": {
        "id": "WbpsfCRpkXGz",
        "outputId": "434a906f-d960-45d1-a9f7-0ebf2370bad2",
        "colab": {
          "base_uri": "https://localhost:8080/",
          "height": 35
        }
      },
      "source": [
        "nums = [0, 1, 2, 3, 4]\n",
        "squares = []\n",
        "for x in nums:\n",
        "    squares.append(x ** 2)\n",
        "print (squares)"
      ],
      "execution_count": null,
      "outputs": [
        {
          "output_type": "stream",
          "text": [
            "[0, 1, 4, 9, 16]\n"
          ],
          "name": "stdout"
        }
      ]
    },
    {
      "cell_type": "markdown",
      "metadata": {
        "id": "4ZZ-b5wkkXG3"
      },
      "source": [
        "Question\n",
        "\n",
        "Make this code simpler using a list comprehension:"
      ]
    },
    {
      "cell_type": "markdown",
      "metadata": {
        "id": "u90-6QxrkXG7"
      },
      "source": [
        "List comprehensions can also contain conditions:"
      ]
    },
    {
      "cell_type": "code",
      "metadata": {
        "id": "A7pVLyZbkXG7"
      },
      "source": [
        "# can you modify above function to print only even squares\n",
        "nums = [0, 1, 2, 3, 4]\n",
        "even_squares = [x ** 2 for x in nums if x % 2 == 0]\n",
        "print (even_squares)"
      ],
      "execution_count": null,
      "outputs": []
    },
    {
      "cell_type": "markdown",
      "metadata": {
        "id": "miR5391_kXHA"
      },
      "source": [
        "####Dictionaries"
      ]
    },
    {
      "cell_type": "markdown",
      "metadata": {
        "id": "p1PR9F0RkXHB"
      },
      "source": [
        "A dictionary stores (key, value) pairs, similar to a `Map` in Java or an object in Javascript. You can use it like this:"
      ]
    },
    {
      "cell_type": "code",
      "metadata": {
        "id": "Eh1YosIEkXHC",
        "outputId": "6d8f5df3-24ad-43a5-8e85-038fcf2d5aca",
        "colab": {
          "base_uri": "https://localhost:8080/",
          "height": 54
        }
      },
      "source": [
        "d = {'cat': 'cute', 'dog': 'furry'}  # Create a new dictionary with some data\n",
        "print( d['cat'])       # Get an entry from a dictionary; prints \"cute\"\n",
        "print ('cat' in d )    # Check if a dictionary has a given key; prints \"True\""
      ],
      "execution_count": null,
      "outputs": [
        {
          "output_type": "stream",
          "text": [
            "cute\n",
            "True\n"
          ],
          "name": "stdout"
        }
      ]
    },
    {
      "cell_type": "code",
      "metadata": {
        "id": "Y6dTQYcXkXHE",
        "outputId": "452a676c-2fe0-43c2-cbcd-b6e97cb48025",
        "colab": {
          "base_uri": "https://localhost:8080/",
          "height": 35
        }
      },
      "source": [
        "d['fish'] = 'wet'    # Set an entry in a dictionary\n",
        "print( d['fish'] )     # Prints \"wet\""
      ],
      "execution_count": null,
      "outputs": [
        {
          "output_type": "stream",
          "text": [
            "wet\n"
          ],
          "name": "stdout"
        }
      ]
    },
    {
      "cell_type": "code",
      "metadata": {
        "id": "SJZT1Ta1kXHG",
        "outputId": "b25ad0ad-b6f1-48f3-fb0a-6a726c0e26f8",
        "colab": {
          "base_uri": "https://localhost:8080/",
          "height": 178
        }
      },
      "source": [
        "print (d['monkey'])  # KeyError: 'monkey' not a key of d"
      ],
      "execution_count": null,
      "outputs": [
        {
          "output_type": "error",
          "ename": "KeyError",
          "evalue": "ignored",
          "traceback": [
            "\u001b[0;31m---------------------------------------------------------------------------\u001b[0m",
            "\u001b[0;31mKeyError\u001b[0m                                  Traceback (most recent call last)",
            "\u001b[0;32m<ipython-input-58-2de793f9c766>\u001b[0m in \u001b[0;36m<module>\u001b[0;34m()\u001b[0m\n\u001b[0;32m----> 1\u001b[0;31m \u001b[0mprint\u001b[0m \u001b[0;34m(\u001b[0m\u001b[0md\u001b[0m\u001b[0;34m[\u001b[0m\u001b[0;34m'monkey'\u001b[0m\u001b[0;34m]\u001b[0m\u001b[0;34m)\u001b[0m  \u001b[0;31m# KeyError: 'monkey' not a key of d\u001b[0m\u001b[0;34m\u001b[0m\u001b[0;34m\u001b[0m\u001b[0m\n\u001b[0m",
            "\u001b[0;31mKeyError\u001b[0m: 'monkey'"
          ]
        }
      ]
    },
    {
      "cell_type": "code",
      "metadata": {
        "id": "JzLqdKr1kXHI",
        "outputId": "df28729b-72b5-4f94-8a9e-819356f77ed6",
        "colab": {
          "base_uri": "https://localhost:8080/",
          "height": 72
        }
      },
      "source": [
        "print (d.get('monkey'))         # Get an element with a default; prints \"None\" as \"monkey\" doesn't exist and we didn't define a default\n",
        "print (d.get('fish', 'N/A'))    # Get an element with a default; prints \"wet\" as \"fish\" exist\n",
        "print (d.get('swan', 'N/A'))    # Get an element with a default; prints \"N/A\" as \"swan\" doesn't exist and we defined \"N/A\" as default"
      ],
      "execution_count": null,
      "outputs": [
        {
          "output_type": "stream",
          "text": [
            "None\n",
            "wet\n",
            "N/A\n"
          ],
          "name": "stdout"
        }
      ]
    },
    {
      "cell_type": "code",
      "metadata": {
        "id": "WW--OYQKkXHK",
        "outputId": "c599c7f8-ea81-49c4-be7c-542e1c755673",
        "colab": {
          "base_uri": "https://localhost:8080/",
          "height": 35
        }
      },
      "source": [
        "del d['fish']                     # Remove an element from a dictionary\n",
        "print (d.get('fish', 'N/A'))      # \"fish\" is no longer a key; prints \"N/A\""
      ],
      "execution_count": null,
      "outputs": [
        {
          "output_type": "stream",
          "text": [
            "N/A\n"
          ],
          "name": "stdout"
        }
      ]
    },
    {
      "cell_type": "code",
      "metadata": {
        "id": "8P2upbKfowKd",
        "outputId": "e4038143-68ab-4a62-e56c-10ec1cf4d4fc",
        "colab": {
          "base_uri": "https://localhost:8080/",
          "height": 35
        }
      },
      "source": [
        "#items()\n",
        "print(d.items())"
      ],
      "execution_count": null,
      "outputs": [
        {
          "output_type": "stream",
          "text": [
            "dict_items([('cat', 'cute'), ('dog', 'furry')])\n"
          ],
          "name": "stdout"
        }
      ]
    },
    {
      "cell_type": "code",
      "metadata": {
        "id": "F5Oht3V_JELM",
        "outputId": "28c44cb7-3271-4cee-fd1d-c714e11d592d",
        "colab": {
          "base_uri": "https://localhost:8080/",
          "height": 146
        }
      },
      "source": [
        "# keys()\n",
        "a_dict = {1:\"one\", 3:\"three\", 2:\"two\"}\n",
        "keys = a_dict.keys() \n",
        "keys = sorted(keys)\n",
        "for key in keys:\n",
        "  print(key)\n",
        "print(\"#########################\")\n",
        "for key in a_dict:\n",
        "  print(key)"
      ],
      "execution_count": null,
      "outputs": [
        {
          "output_type": "stream",
          "text": [
            "1\n",
            "2\n",
            "3\n",
            "#########################\n",
            "1\n",
            "3\n",
            "2\n"
          ],
          "name": "stdout"
        }
      ]
    },
    {
      "cell_type": "code",
      "metadata": {
        "id": "XsPNfPJhsx9J",
        "outputId": "c94c3527-b5f5-406b-8ed7-861eb5a161be",
        "colab": {
          "base_uri": "https://localhost:8080/",
          "height": 35
        }
      },
      "source": [
        "a_dict = {1:\"one\", 3:\"three\", 2:\"two\"}\n",
        "\n",
        "b_dict = a_dict.copy()\n",
        "print(b_dict)"
      ],
      "execution_count": null,
      "outputs": [
        {
          "output_type": "stream",
          "text": [
            "{1: 'one', 3: 'three', 2: 'two'}\n"
          ],
          "name": "stdout"
        }
      ]
    },
    {
      "cell_type": "markdown",
      "metadata": {
        "id": "TQplWioikXHS"
      },
      "source": [
        "Dictionary comprehensions: These are similar to list comprehensions, but allow you to easily construct dictionaries. For example:"
      ]
    },
    {
      "cell_type": "code",
      "metadata": {
        "id": "mMwelgvNkXHT",
        "outputId": "fc10e626-27f1-45ed-f25f-2d92ee93041f",
        "colab": {
          "base_uri": "https://localhost:8080/",
          "height": 35
        }
      },
      "source": [
        "nums = [0, 1, 2, 3, 4]\n",
        "even_num_to_square = {x: x ** 2 for x in nums if x % 2 == 0}\n",
        "print (even_num_to_square)"
      ],
      "execution_count": null,
      "outputs": [
        {
          "output_type": "stream",
          "text": [
            "{0: 0, 2: 4, 4: 16}\n"
          ],
          "name": "stdout"
        }
      ]
    },
    {
      "cell_type": "code",
      "metadata": {
        "id": "0_0FUOGopeab",
        "outputId": "cc67601f-0dea-4a3f-ac54-7f489b61a8ef",
        "colab": {
          "base_uri": "https://localhost:8080/",
          "height": 54
        }
      },
      "source": [
        "a = dict(one=1, two=2, three=3)\n",
        "b = {'one': 1, 'two': 2, 'three': 3}\n",
        "c = dict(zip(['one', 'two', 'three'], [1, 2, 3]))\n",
        "d = dict([('two', 2), ('one', 1), ('three', 3)])\n",
        "print (d)\n",
        "e = dict({'three': 3, 'one': 1, 'two': 2})\n",
        "print (e)"
      ],
      "execution_count": null,
      "outputs": [
        {
          "output_type": "stream",
          "text": [
            "{'two': 2, 'one': 1, 'three': 3}\n",
            "{'three': 3, 'one': 1, 'two': 2}\n"
          ],
          "name": "stdout"
        }
      ]
    },
    {
      "cell_type": "markdown",
      "metadata": {
        "id": "wnZfb0SapMlD"
      },
      "source": [
        "**Question** \n",
        "\n",
        "can you write a program to swap dictionary keys with values ? Try later"
      ]
    },
    {
      "cell_type": "markdown",
      "metadata": {
        "id": "zBYIoDR9kXHM"
      },
      "source": [
        "You can find all you need to know about dictionaries in the [documentation](https://docs.python.org/2/library/stdtypes.html#dict)."
      ]
    },
    {
      "cell_type": "markdown",
      "metadata": {
        "id": "doO8_tf4kXHN"
      },
      "source": [
        "It is easy to iterate over the keys in a dictionary:"
      ]
    },
    {
      "cell_type": "code",
      "metadata": {
        "id": "8aImnxMfkXHO",
        "outputId": "ed9028cb-09aa-479d-b4f9-c63c37a4fba6",
        "colab": {
          "base_uri": "https://localhost:8080/",
          "height": 72
        }
      },
      "source": [
        "d = {'person': 2, 'cat': 4, 'spider': 8}\n",
        "for animal in d:\n",
        "    legs = d[animal]\n",
        "    print (f'A {animal} has {legs} legs')"
      ],
      "execution_count": null,
      "outputs": [
        {
          "output_type": "stream",
          "text": [
            "A person has 2 legs\n",
            "A cat has 4 legs\n",
            "A spider has 8 legs\n"
          ],
          "name": "stdout"
        }
      ]
    },
    {
      "cell_type": "markdown",
      "metadata": {
        "id": "hcqc9HffkXHV"
      },
      "source": [
        "####Sets"
      ]
    },
    {
      "cell_type": "markdown",
      "metadata": {
        "id": "gx9_hwk7kXHV"
      },
      "source": [
        "A set is an unordered collection of distinct elements. As a simple example, consider the following:"
      ]
    },
    {
      "cell_type": "code",
      "metadata": {
        "id": "NR73gJk-kXHW",
        "outputId": "aae037dd-5440-45b7-9bd6-06b21ab0a815",
        "colab": {
          "base_uri": "https://localhost:8080/",
          "height": 54
        }
      },
      "source": [
        "animals = {'cat', 'dog'}\n",
        "print('cat' in animals)   # Check if an element is in a set; prints \"True\"\n",
        "print('fish' in animals)  # prints \"False\""
      ],
      "execution_count": null,
      "outputs": [
        {
          "output_type": "stream",
          "text": [
            "True\n",
            "False\n"
          ],
          "name": "stdout"
        }
      ]
    },
    {
      "cell_type": "code",
      "metadata": {
        "id": "CDfSVjsbkXHZ",
        "outputId": "f51b881c-ec71-4f6b-b5de-891d2f966a5f",
        "colab": {
          "base_uri": "https://localhost:8080/",
          "height": 54
        }
      },
      "source": [
        "animals.add('fish')       # Add an element to a set\n",
        "print('fish' in animals)  # Prints \"True\"\n",
        "print(len(animals))       # Number of elements in a set; prints \"3\""
      ],
      "execution_count": null,
      "outputs": [
        {
          "output_type": "stream",
          "text": [
            "True\n",
            "3\n"
          ],
          "name": "stdout"
        }
      ]
    },
    {
      "cell_type": "code",
      "metadata": {
        "id": "RpGV27IgqLlK",
        "outputId": "c01bf5af-6bcd-4720-b01f-3a3854e5c218",
        "colab": {
          "base_uri": "https://localhost:8080/",
          "height": 54
        }
      },
      "source": [
        "animals.add('fish')       # Add an element to a set\n",
        "print('fish' in animals)  # Prints \"True\"\n",
        "print(len(animals))       # Number of elements in a set; prints \"3\""
      ],
      "execution_count": null,
      "outputs": [
        {
          "output_type": "stream",
          "text": [
            "True\n",
            "3\n"
          ],
          "name": "stdout"
        }
      ]
    },
    {
      "cell_type": "code",
      "metadata": {
        "id": "vwm7TsEFkXHc",
        "outputId": "012707e3-5d00-45e6-fe4c-fa812e6e499b",
        "colab": {
          "base_uri": "https://localhost:8080/",
          "height": 54
        }
      },
      "source": [
        "animals.add('cat')        # Adding an element that is already in the set does nothing\n",
        "print(len(animals))       # Prints \"3\"\n",
        "animals.remove('cat')     # Remove an element from a set\n",
        "print(len(animals))       # Prints \"2\""
      ],
      "execution_count": null,
      "outputs": [
        {
          "output_type": "stream",
          "text": [
            "3\n",
            "2\n"
          ],
          "name": "stdout"
        }
      ]
    },
    {
      "cell_type": "markdown",
      "metadata": {
        "id": "IfyZG8U-kXHe"
      },
      "source": [
        "_Loops_: Iterating over a set has the same syntax as iterating over a list; however since sets are unordered, you cannot make assumptions about the order in which you visit the elements of the set:"
      ]
    },
    {
      "cell_type": "code",
      "metadata": {
        "id": "SpuBFlvAkXHe",
        "outputId": "fae58e6f-5017-441f-c31c-a3687660ed37",
        "colab": {
          "base_uri": "https://localhost:8080/",
          "height": 72
        }
      },
      "source": [
        "animals = {'cat', 'dog', 'fish'}\n",
        "for idx, animal in enumerate(animals):\n",
        "    print ('#%d: %s' % (idx + 1, animal))\n",
        "# Prints (\"#1: fish\", \"#2: dog\", \"#3: cat\")"
      ],
      "execution_count": null,
      "outputs": [
        {
          "output_type": "stream",
          "text": [
            "#1: cat\n",
            "#2: fish\n",
            "#3: dog\n"
          ],
          "name": "stdout"
        }
      ]
    },
    {
      "cell_type": "markdown",
      "metadata": {
        "id": "zZpg49ALkXHg"
      },
      "source": [
        "Set comprehensions: Like lists and dictionaries, we can easily construct sets using set comprehensions:"
      ]
    },
    {
      "cell_type": "code",
      "metadata": {
        "id": "LDS6IoYCkXHh",
        "outputId": "e404661b-bc7d-44a7-984f-69bdd474398b",
        "colab": {
          "base_uri": "https://localhost:8080/",
          "height": 35
        }
      },
      "source": [
        "from math import sqrt\n",
        "nums = {int(sqrt(x)) for x in range(30)}\n",
        "print(nums)  # Prints \"{0, 1, 2, 3, 4, 5}\""
      ],
      "execution_count": null,
      "outputs": [
        {
          "output_type": "stream",
          "text": [
            "{0, 1, 2, 3, 4, 5}\n"
          ],
          "name": "stdout"
        }
      ]
    },
    {
      "cell_type": "markdown",
      "metadata": {
        "id": "3vG49GjxkXHj"
      },
      "source": [
        "####Tuples"
      ]
    },
    {
      "cell_type": "markdown",
      "metadata": {
        "id": "dZIhGP7qkXHj"
      },
      "source": [
        "A tuple is an (immutable) ordered list of values. A tuple is in many ways similar to a list; one of the most important differences is that tuples can be used as keys in dictionaries and as elements of sets, while lists cannot. Here is a trivial example:"
      ]
    },
    {
      "cell_type": "code",
      "metadata": {
        "id": "kR60nHvWHU93"
      },
      "source": [
        "another_tuple = tuple()\n",
        "t = (5, 6)  "
      ],
      "execution_count": null,
      "outputs": []
    },
    {
      "cell_type": "code",
      "metadata": {
        "id": "psOHyp67kXHk",
        "outputId": "5e9b9bca-64b4-4113-cd56-19574b960491",
        "colab": {
          "base_uri": "https://localhost:8080/",
          "height": 90
        }
      },
      "source": [
        "d = {(x, x + 1): x for x in range(10)}  # Create a dictionary with tuple keys\n",
        "t = (5, 6)        # Create a tuple\n",
        "print(type(t))    # Prints \"<class 'tuple'>\"\n",
        "print(d)          # {(0, 1): 0, (1, 2): 1, (2, 3): 2, (3, 4): 3, (4, 5): 4, (5, 6): 5, (6, 7): 6, (7, 8): 7, (8, 9): 8, (9, 10): 9}\n",
        "print(d[t])       # Prints \"5\"\n",
        "print(d[(1, 2)])  # Prints \"1\""
      ],
      "execution_count": null,
      "outputs": [
        {
          "output_type": "stream",
          "text": [
            "<class 'tuple'>\n",
            "{(0, 1): 0, (1, 2): 1, (2, 3): 2, (3, 4): 3, (4, 5): 4, (5, 6): 5, (6, 7): 6, (7, 8): 7, (8, 9): 8, (9, 10): 9}\n",
            "5\n",
            "1\n"
          ],
          "name": "stdout"
        }
      ]
    },
    {
      "cell_type": "code",
      "metadata": {
        "id": "VbeDu4oPkXHm",
        "outputId": "617d7490-ab46-40df-bc77-b79028059ce3",
        "colab": {
          "base_uri": "https://localhost:8080/",
          "height": 178
        }
      },
      "source": [
        "t[0] = 1 #immutable"
      ],
      "execution_count": null,
      "outputs": [
        {
          "output_type": "error",
          "ename": "TypeError",
          "evalue": "ignored",
          "traceback": [
            "\u001b[0;31m---------------------------------------------------------------------------\u001b[0m",
            "\u001b[0;31mTypeError\u001b[0m                                 Traceback (most recent call last)",
            "\u001b[0;32m<ipython-input-76-db3116091868>\u001b[0m in \u001b[0;36m<module>\u001b[0;34m()\u001b[0m\n\u001b[0;32m----> 1\u001b[0;31m \u001b[0mt\u001b[0m\u001b[0;34m[\u001b[0m\u001b[0;36m0\u001b[0m\u001b[0;34m]\u001b[0m \u001b[0;34m=\u001b[0m \u001b[0;36m1\u001b[0m \u001b[0;31m#immutable\u001b[0m\u001b[0;34m\u001b[0m\u001b[0;34m\u001b[0m\u001b[0m\n\u001b[0m",
            "\u001b[0;31mTypeError\u001b[0m: 'tuple' object does not support item assignment"
          ]
        }
      ]
    },
    {
      "cell_type": "code",
      "metadata": {
        "id": "qEwP1AXAHdph",
        "outputId": "4fc9e10d-8979-4008-a5b9-c4933a949480",
        "colab": {
          "base_uri": "https://localhost:8080/",
          "height": 35
        }
      },
      "source": [
        "#cast to list\n",
        "abc = tuple([1, 2, 3])\n",
        "abc_list = list(abc)\n",
        "print(abc_list)"
      ],
      "execution_count": null,
      "outputs": [
        {
          "output_type": "stream",
          "text": [
            "[1, 2, 3]\n"
          ],
          "name": "stdout"
        }
      ]
    },
    {
      "cell_type": "markdown",
      "metadata": {
        "id": "jR2pkzHIH8wN"
      },
      "source": [
        "##### IF"
      ]
    },
    {
      "cell_type": "code",
      "metadata": {
        "id": "OKOS7JhTH73m",
        "outputId": "8e503c2a-8446-40a8-e88e-f5262d9bc2cc",
        "colab": {
          "base_uri": "https://localhost:8080/",
          "height": 54
        }
      },
      "source": [
        "value = input(\"How much is that book? \") # input function used to take user input\n",
        "value = int(value)\n",
        "\n",
        "if value < 10:\n",
        "    print(\"That's a great deal!\")\n",
        "elif 10 <= value <= 20:\n",
        "    print(\"I'd still pay that...\")\n",
        "else:\n",
        "    print(\"Wow! That's too much!\")"
      ],
      "execution_count": null,
      "outputs": [
        {
          "output_type": "stream",
          "text": [
            "How much is that book? 100\n",
            "Wow! That's too much!\n"
          ],
          "name": "stdout"
        }
      ]
    },
    {
      "cell_type": "markdown",
      "metadata": {
        "id": "FI5zvWwZkXHq"
      },
      "source": [
        "###Functions"
      ]
    },
    {
      "cell_type": "markdown",
      "metadata": {
        "id": "GtIBL8KzkXHq"
      },
      "source": [
        "Python functions are defined using the `def` keyword. For example:"
      ]
    },
    {
      "cell_type": "code",
      "metadata": {
        "id": "tV5Mlen9kXHr",
        "outputId": "200e0afd-ccc8-46cb-d0ca-a9cfc2b6fa1d",
        "colab": {
          "base_uri": "https://localhost:8080/",
          "height": 72
        }
      },
      "source": [
        "def sign(x):\n",
        "    if x > 0:\n",
        "        return 'positive'\n",
        "    elif x < 0:\n",
        "        return 'negative'\n",
        "    else:\n",
        "        return 'zero'\n",
        "\n",
        "for x in [-1, 0, 1]:\n",
        "    print(sign(x))\n",
        "# Prints \"negative\", \"zero\", \"positive\""
      ],
      "execution_count": null,
      "outputs": [
        {
          "output_type": "stream",
          "text": [
            "negative\n",
            "zero\n",
            "positive\n"
          ],
          "name": "stdout"
        }
      ]
    },
    {
      "cell_type": "markdown",
      "metadata": {
        "id": "_v2CKZCOkXHt"
      },
      "source": [
        "We will often define functions to take optional keyword arguments, like this:"
      ]
    },
    {
      "cell_type": "code",
      "metadata": {
        "id": "gwsrnoL3kXHu",
        "outputId": "1c5926b3-35a7-406f-99d6-1b037a6b12c3",
        "colab": {
          "base_uri": "https://localhost:8080/",
          "height": 54
        }
      },
      "source": [
        "def hello(name, loud=False):\n",
        "    if loud:\n",
        "        print('HELLO, %s!' % name.upper())\n",
        "    else:\n",
        "        print('Hello, %s' % name)\n",
        "\n",
        "hello('Bob') # Prints \"Hello, Bob\"\n",
        "hello('Fred', loud=True)  # Prints \"HELLO, FRED!\""
      ],
      "execution_count": null,
      "outputs": [
        {
          "output_type": "stream",
          "text": [
            "Hello, Bob\n",
            "HELLO, FRED!\n"
          ],
          "name": "stdout"
        }
      ]
    },
    {
      "cell_type": "markdown",
      "metadata": {
        "id": "omr-JTHULKA0"
      },
      "source": [
        "An Empty Function"
      ]
    },
    {
      "cell_type": "code",
      "metadata": {
        "id": "9i4y7pdkLFs9"
      },
      "source": [
        "def empty_function():\n",
        "    pass"
      ],
      "execution_count": null,
      "outputs": []
    },
    {
      "cell_type": "markdown",
      "metadata": {
        "id": "1VMZ4LKdLSgy"
      },
      "source": [
        "args and kwargs\n",
        "To get infinite arguments,\n",
        "*  use *args and for infinite keyword arguments, \n",
        "* use **kwargs."
      ]
    },
    {
      "cell_type": "code",
      "metadata": {
        "id": "xPVbn8GRLTi_",
        "outputId": "bb4d4526-4b07-4c6a-d30f-ce8bb039c5d4",
        "colab": {
          "base_uri": "https://localhost:8080/",
          "height": 72
        }
      },
      "source": [
        "def many(*args, **kwargs):\n",
        "    print(args)\n",
        "    print(type(args))\n",
        "    print(kwargs)\n",
        "\n",
        "many(1, 2, 3, name=\"Mad\", job=\"programmer\")"
      ],
      "execution_count": null,
      "outputs": [
        {
          "output_type": "stream",
          "text": [
            "(1, 2, 3)\n",
            "<class 'tuple'>\n",
            "{'name': 'Mad', 'job': 'programmer'}\n"
          ],
          "name": "stdout"
        }
      ]
    },
    {
      "cell_type": "markdown",
      "metadata": {
        "id": "8b-tuy3oLnZo"
      },
      "source": [
        "You could have called them * apple and ** orange and it would work the same way. The key here is in the number of asterisks."
      ]
    },
    {
      "cell_type": "markdown",
      "metadata": {
        "id": "eYbJ0zM0Oify"
      },
      "source": [
        "### Lambda statement in Python"
      ]
    },
    {
      "cell_type": "code",
      "metadata": {
        "id": "cNNNLbc3OmBp"
      },
      "source": [
        "import math\n",
        "\n",
        "def sqroot(x):\n",
        "    \"\"\"\n",
        "    Finds the square root of the number passed in\n",
        "    \"\"\"\n",
        "    return math.sqrt(x)\n",
        "\n",
        "square_rt = lambda x: math.sqrt(x)"
      ],
      "execution_count": null,
      "outputs": []
    },
    {
      "cell_type": "code",
      "metadata": {
        "id": "1v_JjV4WOs6B",
        "outputId": "a28081f6-be80-42ba-8881-d36ebadee54a",
        "colab": {
          "base_uri": "https://localhost:8080/",
          "height": 54
        }
      },
      "source": [
        "print(sqroot(49))\n",
        "#7.0\n",
        "\n",
        "print(square_rt(64))\n",
        "#8.0"
      ],
      "execution_count": null,
      "outputs": [
        {
          "output_type": "stream",
          "text": [
            "7.0\n",
            "8.0\n"
          ],
          "name": "stdout"
        }
      ]
    },
    {
      "cell_type": "markdown",
      "metadata": {
        "id": "d8SfHjo6kXHw"
      },
      "source": [
        "###Classes"
      ]
    },
    {
      "cell_type": "markdown",
      "metadata": {
        "id": "0ZaL6qOVkXHw"
      },
      "source": [
        "The syntax for defining classes in Python is straightforward:"
      ]
    },
    {
      "cell_type": "markdown",
      "metadata": {
        "id": "pACg0HD6sy1T"
      },
      "source": [
        "### Super Class"
      ]
    },
    {
      "cell_type": "code",
      "metadata": {
        "id": "c1u_rv4fsoVb",
        "outputId": "9eb6a0cf-c4b3-4a1b-d04d-476c86dfb589",
        "colab": {
          "base_uri": "https://localhost:8080/",
          "height": 54
        }
      },
      "source": [
        "class Greeter(object):\n",
        "\n",
        "    # Similar to Constructor\n",
        "    def __init__(self, name):\n",
        "        self.name = name  # Create an instance variable\n",
        "\n",
        "    # Instance method\n",
        "    def greet(self, loud=False):\n",
        "        if loud:\n",
        "            print('HELLO, %s!' % self.name.upper())\n",
        "        else:\n",
        "            print('Hello, %s' % self.name)\n",
        "\n",
        "g = Greeter('Fred')  # Construct an instance of the Greeter class\n",
        "g.greet()            # Call an instance method; prints \"Hello, Fred\"\n",
        "g.greet(loud=True)   # Call an instance method; prints \"HELLO, FRED!\""
      ],
      "execution_count": null,
      "outputs": [
        {
          "output_type": "stream",
          "text": [
            "Hello, Fred\n",
            "HELLO, FRED!\n"
          ],
          "name": "stdout"
        }
      ]
    },
    {
      "cell_type": "markdown",
      "metadata": {
        "id": "zUUoqRAls33G"
      },
      "source": [
        "### Child Class"
      ]
    },
    {
      "cell_type": "code",
      "metadata": {
        "id": "N-pcHmTzMjcP"
      },
      "source": [
        "class NewYearGreeter(Greeter):\n",
        "    \"\"\"\n",
        "    The NewYearGreeter class\n",
        "    \"\"\"\n",
        "\n",
        "    def greet(self, loud=False):\n",
        "        \"\"\"\n",
        "          Override greet method\n",
        "        \"\"\"\n",
        "        if loud:\n",
        "            print('HAPPY NEW YEAR , %s!' % self.name.upper())\n",
        "        else:\n",
        "            print('Happy new year, %s' % self.name)"
      ],
      "execution_count": null,
      "outputs": []
    },
    {
      "cell_type": "code",
      "metadata": {
        "id": "3F9MDcL-MxhO",
        "outputId": "a19b4a0f-d51d-4769-c21f-05a7abebf013",
        "colab": {
          "base_uri": "https://localhost:8080/",
          "height": 54
        }
      },
      "source": [
        "g = NewYearGreeter('Fred')  # Construct an instance of the Greeter class\n",
        "g.greet()            # Call an instance method; prints \"Hello, Fred\"\n",
        "g.greet(loud=True)   # Call an instance method; prints \"HELLO, FRED!\""
      ],
      "execution_count": null,
      "outputs": [
        {
          "output_type": "stream",
          "text": [
            "Happy new year, Fred\n",
            "HAPPY NEW YEAR , FRED!\n"
          ],
          "name": "stdout"
        }
      ]
    },
    {
      "cell_type": "code",
      "metadata": {
        "id": "K6K5GRaaGr-U"
      },
      "source": [
        ""
      ],
      "execution_count": null,
      "outputs": []
    }
  ]
}